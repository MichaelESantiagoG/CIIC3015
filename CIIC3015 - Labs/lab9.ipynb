{
 "cells": [
  {
   "cell_type": "markdown",
   "metadata": {},
   "source": [
    "#### Write a function called Enumerate() which duplicates the behavior of Python's builtin enumerate() generator without using it.\n",
    "\n",
    "#### The Enumerate() function takes a sequence argument (list, tuple, str) and returns a list of tuples where the first item in the tuple is an index and the second is the item at that index in the sequence argument.\n",
    "\n",
    "#### Por ejemplo:\n",
    "\n",
    "| Prueba                                               | Resultado                                        |\n",
    "|------------------------------------------------------|--------------------------------------------------|\n",
    "| `print( Enumerate(('spam','eggs','bacon')) )`        | `[(0, 'spam'), (1, 'eggs'), (2, 'bacon')]`      |\n",
    "| `for i,x in Enumerate(('spam','eggs','bacon')):`     |                                                  |\n",
    "| &nbsp;&nbsp;&nbsp;&nbsp;`print(i,x)`                | &nbsp;&nbsp;&nbsp;&nbsp;`0 spam`                |\n",
    "| &nbsp;&nbsp;&nbsp;&nbsp;                            | &nbsp;&nbsp;&nbsp;&nbsp;`1 eggs`                |\n",
    "| &nbsp;&nbsp;&nbsp;&nbsp;                            | &nbsp;&nbsp;&nbsp;&nbsp;`2 bacon`               |\n",
    "| `for i,x in Enumerate(range(3,6)):`                  |                                                  |\n",
    "| &nbsp;&nbsp;&nbsp;&nbsp;`print(i,x)`                | &nbsp;&nbsp;&nbsp;&nbsp;`0 3`                   |\n",
    "| &nbsp;&nbsp;&nbsp;&nbsp;                            | &nbsp;&nbsp;&nbsp;&nbsp;`1 4`                   |\n",
    "| &nbsp;&nbsp;&nbsp;&nbsp;                            | &nbsp;&nbsp;&nbsp;&nbsp;`2 5`                   |\n",
    "| `for i,x in Enumerate('spams'):`                     |                                                  |\n",
    "| &nbsp;&nbsp;&nbsp;&nbsp;`print(i,x)`                | &nbsp;&nbsp;&nbsp;&nbsp;`0 s`                   |\n",
    "| &nbsp;&nbsp;&nbsp;&nbsp;                            | &nbsp;&nbsp;&nbsp;&nbsp;`1 p`                   |\n",
    "| &nbsp;&nbsp;&nbsp;&nbsp;                            | &nbsp;&nbsp;&nbsp;&nbsp;`2 a`                   |\n",
    "| &nbsp;&nbsp;&nbsp;&nbsp;                            | &nbsp;&nbsp;&nbsp;&nbsp;`3 m`                   |\n",
    "| &nbsp;&nbsp;&nbsp;&nbsp;                            | &nbsp;&nbsp;&nbsp;&nbsp;`4 s`                   |\n",
    "\n"
   ]
  },
  {
   "cell_type": "code",
   "execution_count": 1,
   "metadata": {},
   "outputs": [
    {
     "name": "stdout",
     "output_type": "stream",
     "text": [
      "[(0, 'spam'), (1, 'eggs'), (2, 'bacon')]\n",
      "\n",
      "0 spam\n",
      "1 eggs\n",
      "2 bacon\n",
      "\n",
      "0 3\n",
      "1 4\n",
      "2 5\n",
      "\n",
      "0 s\n",
      "1 p\n",
      "2 a\n",
      "3 m\n",
      "4 s\n"
     ]
    }
   ],
   "source": [
    "def Enumerate(tup):\n",
    "  newlist = []\n",
    "  for i in range(len(tup)):\n",
    "    temptup = (i,tup[i])\n",
    "    newlist.append(temptup)\n",
    "  return newlist\n",
    "\n",
    "\n",
    "print( Enumerate(('spam','eggs','bacon')), end='\\n')\n",
    "print()\n",
    "for i,x in Enumerate(('spam','eggs','bacon')):\n",
    "    print(i,x, end='\\n')\n",
    "print()\n",
    "for i,x in Enumerate(range(3,6)):\n",
    "    print(i,x, end='\\n')\n",
    "print()\n",
    "for i,x in Enumerate('spams'):\n",
    "    print(i,x, end='\\n')\n"
   ]
  },
  {
   "cell_type": "markdown",
   "metadata": {},
   "source": [
    "#### Write a function called Checkout() which takes two dictionaries as arguments. The first dictionary maps strings to floats and contains prices for various items. So for example {'frozen pizza': 20.99} would mean that one frozen pizza costs $20.99. The second dictionary maps strings to ints and is your shopping list. So for example {'frozen pizza': 4} means that you need to buy four frozen pizzas.\n",
    "\n",
    "#### Your function must compare the shopping list to the list of prices and calculate the total amount spent. However, it is possible that the store does not have everything on the shopping list, in which case any missing item(s) are simply ignored and do not contribute to the total.\n",
    "\n",
    "#### Por ejemplo:\n",
    "\n",
    "| Prueba                                                                                                 | Resultado |\n",
    "|--------------------------------------------------------------------------------------------------------|-----------|\n",
    "| `price = {'spam':9.00,'eggs':3.00,'bacon':5.00,'sausage':4.50} `<br> `order = {'spam':100,'chocolate':3,'eggs':1}`<br> `print(Checkout(price,order))` | `903.0`   |\n",
    "| `price = {}`<br> `order = {'spam':100,'chocolate':3,'eggs':1}`<br> `print(Checkout(price,order))`      | `0.0`     |\n",
    "| `prices = {'spam':9.00,'eggs':3.00,'bacon':5.00,'sausage':4.50}`<br> `orders = {'ferrari',1}`<br> `print(Checkout(price,order))`  | `0.0`     |\n",
    "| `price = {'spam':8.00,'eggs':2.00,'bacon':4.00,'pie':11}`<br> `order = {'spam':2,'eggs':2,'pie':3}`<br> `print(Checkout(price,order))`        | `53.0`    |\n",
    "| `price = {'yogurt':1.50,'juice':6.00,'cereal':4.00}`<br> `order = {'yogurt':6,'juice':2,'salami':2,'cereal':1}`<br> `print(Checkout(price,order))`   | `25.0`    |\n"
   ]
  },
  {
   "cell_type": "code",
   "execution_count": 12,
   "metadata": {},
   "outputs": [
    {
     "name": "stdout",
     "output_type": "stream",
     "text": [
      "903.0\n",
      "\n",
      "0.0\n",
      "\n",
      "0.0\n",
      "\n",
      "53.0\n",
      "\n",
      "25.0\n"
     ]
    }
   ],
   "source": [
    "def Checkout(price, order):\n",
    "  total = 0\n",
    "  for key in price:\n",
    "    if key in order:\n",
    "      cost = price[key] * order[key]\n",
    "      total += cost\n",
    "  return float(total)\n",
    "\n",
    "price = {'spam':9.00,'eggs':3.00,'bacon':5.00,'sausage':4.50}\n",
    "order = {'spam':100,'chocolate':3,'eggs':1}\n",
    "print(Checkout(price,order))\n",
    "print()\n",
    "\n",
    "price = {}\n",
    "order = {'spam':100,'chocolate':3,'eggs':1}\n",
    "print(Checkout(price,order))\n",
    "print()\n",
    "\n",
    "prices = {'spam':9.00,'eggs':3.00,'bacon':5.00,'sausage':4.50}\n",
    "orders = {'ferrari',1}\n",
    "print(Checkout(price,order))\n",
    "print()\n",
    "\n",
    "price = {'spam':8.00,'eggs':2.00,'bacon':4.00,'pie':11}\n",
    "order = {'spam':2,'eggs':2,'pie':3}\n",
    "print(Checkout(price,order))\n",
    "print()\n",
    "\n",
    "price = {'yogurt':1.50,'juice':6.00,'cereal':4.00}\n",
    "order = {'yogurt':6,'juice':2,'salami':2,'cereal':1}\n",
    "print(Checkout(price,order))\n"
   ]
  },
  {
   "cell_type": "markdown",
   "metadata": {},
   "source": [
    "#### Write a function courseinstructor(L) that receives a list containing information about the courses. Each item of the list is a lists that contains  three items the name of the course, the room where the course meet and the instructor that teaches the course. \n",
    "\n",
    "#### Here an example of the list :\n",
    "\n",
    "#### coursesinf=[['CIIC4151','S113','Velez'], ['CIIC3011','S121','Sierra'], ['CIIC3035','S114', 'Rodriguez'],\n",
    "####            ['CIIC4050', 'S114', 'Arzuaga'], ['CIIC4030','S202','Rivera']]\n",
    "#### The function creates a dictionary containing course name as keys and the instructor name that teaches the courses as values. The function should print the created dictionary."
   ]
  },
  {
   "cell_type": "code",
   "execution_count": 2,
   "metadata": {},
   "outputs": [
    {
     "name": "stdout",
     "output_type": "stream",
     "text": [
      "{'CIIC4151': 'Velez', 'CIIC3011': 'Sierra', 'CIIC3035': 'Rodriguez'}\n",
      "\n",
      "{'CIIC4050': 'Arzuaga', 'CIIC4030': 'Rivera'}\n"
     ]
    }
   ],
   "source": [
    "def courseinstructor(L):\n",
    "  CID = {}\n",
    "  for i in range(len(L)):\n",
    "    for j in range(len(L[i])):\n",
    "      CID[L[i][0]] = L[i][2] \n",
    "  print(CID)\n",
    "\n",
    "courseinstructor([['CIIC4151','S113','Velez'],['CIIC3011','S121','Sierra'], ['CIIC3035','S114','Rodriguez']])\n",
    "print()\n",
    "courseinstructor([['CIIC4050','S114','Arzuaga'],['CIIC4030','S202','Rivera']])\n"
   ]
  },
  {
   "cell_type": "markdown",
   "metadata": {},
   "source": [
    "#### Write a non-destructive function called MergeSums() which takes two dictionaries as arguments and returns a new dictionary which is a combination of the first two. The two input dictionaries map keys to integers, where each integer represents a sum. The new dictionary contains all keys which appear in the union of both dictionaries, with the values being summed. Note that any given key may appear in either or both of the input dictionaries.\n",
    "\n",
    "#### Por ejemplo:\n",
    "\n",
    "| Prueba                                                                       | Resultado |\n",
    "|------------------------------------------------------------------------------|-----------|\n",
    "| `A={'spam':10,'eggs':0,'bacon':1}`<br>`B={'sausage':1,'spam':6,'eggs':2}`<br>`print(len(MergeSums(A,B)))`<br>`print(len(A),len(B))` | `4`<br>`3 3` |\n",
    "| `D={'spam':10,'eggs':0,'bacon':1}`<br>`E={'sausage':1,'spam':6,'eggs':2}`<br>`print(MergeSums(D,E)['spam'])`  | `16`      |\n",
    "| `X={'spam':10,'eggs':0,'bacon':1}`<br>`Y={'sausage':1,'spam':6,'eggs':2}`<br>`print(MergeSums(X,Y)['eggs'])` | `2`       |\n",
    "| `S={'spam':10,'eggs':0,'bacon':3}`<br>`T={'sausage':1,'spam':6,'eggs':2}`<br>`print(MergeSums(S,T)['bacon'])` | `3`       |\n",
    "| `A={'spam':10,'eggs':0,'bacon':1}`<br>`B={'sausage':1,'spam':6,'eggs':2}`<br>`print(MergeSums(A,B)['sausage'])` | `1`       |\n"
   ]
  },
  {
   "cell_type": "code",
   "execution_count": 3,
   "metadata": {},
   "outputs": [
    {
     "name": "stdout",
     "output_type": "stream",
     "text": [
      "4\n",
      "3 3\n",
      "\n",
      "16\n",
      "\n",
      "2\n",
      "\n",
      "3\n",
      "\n",
      "1\n"
     ]
    }
   ],
   "source": [
    "def MergeSums(D1,D2):\n",
    "  D3 = {}\n",
    "  for key in D1:\n",
    "    D3[key] = D1[key]\n",
    "    for key in D2:\n",
    "      if key not in D3:\n",
    "        D3[key] = D2[key]\n",
    "  for key in D3:\n",
    "    if key in D1:\n",
    "      if key in D2:\n",
    "        D3[key] = D1[key] + D2[key]\n",
    "  return D3\n",
    "\n",
    "A={'spam':10,'eggs':0,'bacon':1}\n",
    "B={'sausage':1,'spam':6,'eggs':2}\n",
    "print(len(MergeSums(A,B)))\n",
    "print(len(A),len(B))\n",
    "print()\n",
    "\n",
    "D={'spam':10,'eggs':0,'bacon':1}\n",
    "E={'sausage':1,'spam':6,'eggs':2}\n",
    "print(MergeSums(D,E)['spam'])\n",
    "print()\n",
    "\n",
    "X={'spam':10,'eggs':0,'bacon':1}\n",
    "Y={'sausage':1,'spam':6,'eggs':2}\n",
    "print(MergeSums(X,Y)['eggs'])\n",
    "print()\n",
    "\n",
    "S={'spam':10,'eggs':0,'bacon':3}\n",
    "T={'sausage':1,'spam':6,'eggs':2}\n",
    "print(MergeSums(S,T)['bacon'])\n",
    "print()\n",
    "\n",
    "A={'spam':10,'eggs':0,'bacon':1}\n",
    "B={'sausage':1,'spam':6,'eggs':2}\n",
    "print(MergeSums(A,B)['sausage'])\n"
   ]
  },
  {
   "cell_type": "markdown",
   "metadata": {},
   "source": [
    "#### Write a function called Passwords() which takes the name of a file containing usernames and passwords and returns a dictionary mapping the usernames to their passwords. Each line of the file contains one username and one password, separated by a colon ':'. Remember to remove the trailing newline character from the passwords. Also, the colon character ':' is not allowed to be part of a username but it is allowed to be part of a password. The space character is also allowed to be part of a password.\n",
    "\n",
    "#### Por ejemplo:\n",
    "\n",
    "| Prueba                                                      | Resultado  |\n",
    "|-------------------------------------------------------------|------------|\n",
    "| `P=Passwords('pass0.txt')`                                  |            |\n",
    "| `print('<',P['javier'],'>',sep='')`                         | `<Da Vinci>`  |\n",
    "| `P=Passwords('pass0.txt')`                                  |            |\n",
    "| `print('<',P['nestor'],'>',sep='')`                         | `<sweetroll>` |\n",
    "| `P=Passwords('pass0.txt')`                                  |            |\n",
    "| `print('<',P['sofia'],'>',sep='')`                          | `<Atari>`     |\n",
    "| `P=Passwords('pass0.txt')`                                  |            |\n",
    "| `print('<',P['jafet'],'>',sep='')`                          | `<Batcave>`   |\n",
    "| `P=Passwords('pass0.txt')`                                  |            |\n",
    "| `print('<',P['colonspace'],'>',sep='')`                     | `<oh:: noes: >` |\n",
    "\n"
   ]
  },
  {
   "cell_type": "code",
   "execution_count": 9,
   "metadata": {},
   "outputs": [
    {
     "name": "stdout",
     "output_type": "stream",
     "text": [
      "<Da Vinci>\n",
      "\n",
      "<sweetroll>\n",
      "\n",
      "<Atari>\n",
      "\n",
      "<Batcave>\n",
      "\n",
      "<oh:: noes: >\n"
     ]
    }
   ],
   "source": [
    "def Passwords(filename):\n",
    "  doc = open(filename,'r')\n",
    "  lines = []\n",
    "  UPD = {}\n",
    "  for line in doc:\n",
    "    linelist = line.strip('\\n').split(':',1)\n",
    "    key,val = linelist[0], linelist[1]\n",
    "    UPD[key] = val\n",
    "  return UPD\n",
    "\n",
    "P=Passwords('files/pass0.txt')\n",
    "print('<',P['javier'],'>',sep='')\n",
    "print()\n",
    "\n",
    "P=Passwords('files/pass0.txt')\n",
    "print('<',P['nestor'],'>',sep='')\n",
    "print()\n",
    "\n",
    "P=Passwords('files/pass0.txt')\n",
    "print('<',P['sofia'],'>',sep='')\n",
    "print()\n",
    "\n",
    "P=Passwords('files/pass0.txt')\n",
    "print('<',P['jafet'],'>',sep='')\n",
    "print()\n",
    "\n",
    "P=Passwords('files/pass0.txt')\n",
    "print('<',P['colonspace'],'>',sep='')"
   ]
  },
  {
   "cell_type": "markdown",
   "metadata": {},
   "source": [
    "#### Write a void function called Purge() which takes a dictionary and a value as it arguments, and removes every key from the dictionary that maps to the given value.\n",
    "\n",
    "#### Remember: Do not alter the contents of a container while using that same container as the target of a for-loop! The behavior is undefined!\n",
    "\n",
    "#### Por ejemplo:\n",
    "\n",
    "| Prueba | Resultado |\n",
    "|--------|-----------|\n",
    "| `D={'john':'spam','terry':'eggs','graham':'bacon','eric':'spam','michael':'spam'} Purge(D,'spam') print(len(D),D['terry'],D['graham'])` | `2 eggs bacon` |\n",
    "| `E={'john':'spam','terry':'spam','graham':'spam','eric':'spam','michael':'spam'} Purge(E,'spam') print(len(E))` | `0` |\n",
    "| `F={(1,1,1):0,(1,2,1):3,(1,3,1):0,(1,4):6,(2,2,1):0,(3,7):2} Purge(F,0) print(len(F),F[(1,2,1)],F[(1,4)],F[(3,7)])` | `3 3 6 2` |\n",
    "| `G={1:True,2:False,3:True,4:False,5:True,6:False,7:True,8:True} Purge(G,False) print(len(G),G[1],G[3],G[5],G[7],G[8])` | `5 True True True True True` |\n"
   ]
  },
  {
   "cell_type": "code",
   "execution_count": 10,
   "metadata": {},
   "outputs": [
    {
     "name": "stdout",
     "output_type": "stream",
     "text": [
      "2 eggs bacon\n",
      "\n",
      "0\n",
      "\n",
      "3 3 6 2\n",
      "\n",
      "5 True True True True True\n"
     ]
    }
   ],
   "source": [
    "def Purge(L,target):\n",
    "  for i in list(L):\n",
    "    if L[i] == target:\n",
    "      # print(L[i])\n",
    "      # print(i)\n",
    "      del L[i]\n",
    "\n",
    "\n",
    "\n",
    "D={'john':'spam','terry':'eggs','graham':'bacon','eric':'spam','michael':'spam'}\n",
    "Purge(D,'spam')\n",
    "print(len(D),D['terry'],D['graham'])\n",
    "print()\n",
    "\n",
    "E={'john':'spam','terry':'spam','graham':'spam','eric':'spam','michael':'spam'}\n",
    "Purge(E,'spam')\n",
    "print(len(E))\n",
    "print()\n",
    "\n",
    "F={(1,1,1):0,(1,2,1):3,(1,3,1):0,(1,4):6,(2,2,1):0,(3,7):2}\n",
    "Purge(F,0)\n",
    "print(len(F),F[(1,2,1)],F[(1,4)],F[(3,7)])\n",
    "print()\n",
    "\n",
    "G={1:True,2:False,3:True,4:False,5:True,6:False,7:True,8:True}\n",
    "Purge(G,False)\n",
    "print(len(G),G[1],G[3],G[5],G[7],G[8])\n"
   ]
  },
  {
   "cell_type": "markdown",
   "metadata": {},
   "source": [
    "#### Write a function called merge() which takes two arguments, a container of keys and a container of values, and returns a dictionary that contains (exactly) those keys and values. You may assume that all keys are unique and immutable.\n",
    "\n",
    "#### Por ejemplo:\n",
    "\n",
    "| Prueba | Resultado |\n",
    "|--------|-----------|\n",
    "| `K,V=(1,2,3),('a','b','c') D=merge(K,V) len(D) == 3 and print(D[1],D[2],D[3])` | `a b c` |\n",
    "| `E=merge('spam','eggs') print(E['s'],E['p'],E['a'],E['m'])` | `e g g s` |\n",
    "| `F=merge((False,True),(0,1)) print(F[False],F[True])` | `0 1` |\n",
    "\n",
    "\n",
    "\n",
    "\n"
   ]
  },
  {
   "cell_type": "code",
   "execution_count": 11,
   "metadata": {},
   "outputs": [
    {
     "name": "stdout",
     "output_type": "stream",
     "text": [
      "a b c\n",
      "\n",
      "e g g s\n",
      "\n",
      "0 1\n"
     ]
    }
   ],
   "source": [
    "def merge(keys,values):\n",
    "  D = {}\n",
    "  for key in keys:\n",
    "    # print(key)\n",
    "    # print(keys.index(key))\n",
    "    D[key] = values[keys.index(key)]\n",
    "  return D\n",
    "\n",
    "\n",
    "K,V=(1,2,3),('a','b','c')\n",
    "D=merge(K,V)\n",
    "len(D) == 3 and print(D[1],D[2],D[3])\n",
    "print()\n",
    "\n",
    "E=merge('spam','eggs')\n",
    "print(E['s'],E['p'],E['a'],E['m'])\n",
    "print()\n",
    "\n",
    "F=merge((False,True),(0,1))\n",
    "print(F[False],F[True])"
   ]
  },
  {
   "cell_type": "markdown",
   "metadata": {},
   "source": [
    "#### Write a function called get_enrollment which takes as argument a filename. The file will be composed of lines which are comma-separated values starting with a student name and followed by all the courses they are enrolled in. An example line would be:\n",
    "\n",
    "### Avery,CS2,Eng1\n",
    "\n",
    "### Where Avery is the student and they are enrolled in CS2 and Eng1.\n",
    "\n",
    "#### The function get_enrollment will return a dictionary where the keys are the course names and the values are a list of the students enrolled in that course.\n",
    "\n",
    "#### Here are the contents of \"example.txt\":\n",
    "\n",
    "#### Avery,CS2,Eng1\n",
    "#### Beatrix,Calc1,Calc2,Chem1,Phys1\n",
    "#### Chevy,EngLit,INSO234,Calc2,EspLit,Eng1,Phys1\n",
    "#### Darian,Eng1,EngLit,Esp1,Calc1,CIIC3015,Calc2,CS1\n",
    "#### Eduardo,Phys2,Phys1,INSO234\n",
    "#### Felipe,EspLit,CIIC3015,Chem1,Calc2,CS2\n",
    "#### Grace,CS2\n",
    "#### Harold,Chem2,CS1,Phys2,Chem1,Calc2,Calc1,INSO234\n",
    "#### Irving,CS1,Phys1,Esp1,Chem2,Calc2,Calc1,EngLit\n",
    "#### Jared,Calc2,Eng1,CS2,Chem1,Calc1,CS1,EngLit,EspLit\n",
    "#### Karina,Phys2,Chem1,Calc1,Phys1,CIIC3015,Calc2\n",
    "#### Luis,Phys2,CS2\n",
    "\n",
    "#### Por ejemplo:\n",
    "\n",
    "| Prueba | Resultado |\n",
    "|--------|-----------|\n",
    "| `print(get_enrollment('example.txt'))` | {'CS2': ['Avery', 'Felipe', 'Grace', 'Jared', 'Luis'], 'Eng1': ['Avery', 'Chevy', 'Darian', 'Jared'], 'Calc1': ['Beatrix', 'Darian', 'Harold', 'Irving', 'Jared', 'Karina'], 'Calc2': ['Beatrix', 'Chevy', 'Darian', 'Felipe', 'Harold', 'Irving', 'Jared', 'Karina'], 'Chem1': ['Beatrix', 'Felipe', 'Harold', 'Jared', 'Karina'], 'Phys1': ['Beatrix', 'Chevy', 'Eduardo', 'Irving', 'Karina'], 'EngLit': ['Chevy', 'Darian', 'Irving', 'Jared'], 'INSO234': ['Chevy', 'Eduardo', 'Harold'], 'EspLit': ['Chevy', 'Felipe', 'Jared'], 'Esp1': ['Darian', 'Irving'], 'CIIC3015': ['Darian', 'Felipe', 'Karina'], 'CS1': ['Darian', 'Harold', 'Irving', 'Jared'], 'Phys2': ['Eduardo', 'Harold', 'Karina', 'Luis'], 'Chem2': ['Harold', 'Irving']} |\n"
   ]
  },
  {
   "cell_type": "code",
   "execution_count": 12,
   "metadata": {},
   "outputs": [
    {
     "name": "stdout",
     "output_type": "stream",
     "text": [
      "{'CS2': ['Avery', 'Felipe', 'Grace', 'Jared', 'Luis'], 'Eng1': ['Avery', 'Chevy', 'Darian', 'Jared'], 'Calc1': ['Beatrix', 'Darian', 'Harold', 'Irving', 'Jared', 'Karina'], 'Calc2': ['Beatrix', 'Chevy', 'Darian', 'Felipe', 'Harold', 'Irving', 'Jared', 'Karina'], 'Chem1': ['Beatrix', 'Felipe', 'Harold', 'Jared', 'Karina'], 'Phys1': ['Beatrix', 'Chevy', 'Eduardo', 'Irving', 'Karina'], 'EngLit': ['Chevy', 'Darian', 'Irving', 'Jared'], 'INSO234': ['Chevy', 'Eduardo', 'Harold'], 'EspLit': ['Chevy', 'Felipe', 'Jared'], 'Esp1': ['Darian', 'Irving'], 'CIIC3015': ['Darian', 'Felipe', 'Karina'], 'CS1': ['Darian', 'Harold', 'Irving', 'Jared'], 'Phys2': ['Eduardo', 'Harold', 'Karina', 'Luis'], 'Chem2': ['Harold', 'Irving']}\n"
     ]
    }
   ],
   "source": [
    "def get_enrollment(filename):\n",
    "  doc = open(filename, 'r')\n",
    "  D = {}\n",
    "  lines = doc.readlines()\n",
    "  for line in lines:\n",
    "    sline = line.strip().split(',')\n",
    "    for word in sline:\n",
    "      if word != sline[0] and word not in D:\n",
    "        D[word] = []   \n",
    "      if word in D and sline[0] not in D[word]:\n",
    "        D[word].append(sline[0])\n",
    "  return D\n",
    "\n",
    "print( get_enrollment('files/example.txt') )"
   ]
  }
 ],
 "metadata": {
  "kernelspec": {
   "display_name": "base",
   "language": "python",
   "name": "python3"
  },
  "language_info": {
   "codemirror_mode": {
    "name": "ipython",
    "version": 3
   },
   "file_extension": ".py",
   "mimetype": "text/x-python",
   "name": "python",
   "nbconvert_exporter": "python",
   "pygments_lexer": "ipython3",
   "version": "3.1.undefined"
  }
 },
 "nbformat": 4,
 "nbformat_minor": 2
}
