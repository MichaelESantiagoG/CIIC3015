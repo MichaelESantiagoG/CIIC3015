{
 "cells": [
  {
   "cell_type": "markdown",
   "metadata": {},
   "source": [
    "### Write a function named eliminate_substrings which takes as arguments a string, a starting position and an ending position and returns the string without the characters from the starting position to the ending position. Assume the indexes are valid.\n",
    "\n"
   ]
  },
  {
   "cell_type": "code",
   "execution_count": null,
   "metadata": {},
   "outputs": [],
   "source": [
    "def eliminate_substring(word, start, end):\n",
    "  return word[:start]+word[end + 1:]\n",
    "\n",
    "\n",
    "print(eliminate_substring('racecar',0,3))\n",
    "print(eliminate_substring('approach',0,2))\n",
    "print(eliminate_substring('building',2,6))"
   ]
  },
  {
   "cell_type": "markdown",
   "metadata": {},
   "source": [
    "### The Caesar Cipher was an encryption method used by Julius Caesar to encode messages to his generals. \n",
    "### The encryption consisted of shifting the order of the letters of the alphabet a certain number of positions.\n",
    "### For example the word ace with a shift of 1 would turn into bdf since every letter in the original word got shifted by one position in the alphabet.\n",
    "\n",
    "### Write a function called encrypt that takes as arguments a string, the amount of positions it is to be shifted and returns the encrypted text (a string with the letters shifted by the number of positions in the second argument). \n",
    "\n",
    "### Note: you can assume a maximum shift number of 25 and that the strings will always be in lowercase letters. \n",
    "\n"
   ]
  },
  {
   "cell_type": "code",
   "execution_count": null,
   "metadata": {},
   "outputs": [],
   "source": [
    "alphabet = 'abcdefghijklmnopqrstuvwxyz'\n",
    "def encrypt(message,shift):\n",
    "  newmes = ''\n",
    "  for letter in message:\n",
    "    try:\n",
    "      newmes += alphabet[alphabet.index(letter)+shift]\n",
    "    except:\n",
    "      newmes += alphabet[alphabet.index(letter)+shift - len(alphabet)]\n",
    "  return newmes\n",
    "\n",
    "\n",
    "print(encrypt('ace',1))\n",
    "print(encrypt('civilization',2))\n",
    "print(encrypt('dad',3))\n"
   ]
  },
  {
   "cell_type": "markdown",
   "metadata": {},
   "source": [
    "### Write a program that reads a file named cities.txt. Each line in the file contains a number, a comma, and the name of a city. Here are a few lines from the file:\n",
    "\n",
    "#### 45,Adjuntas\n",
    "#### 71,Aguada\n",
    "#### 69,Aguadilla\n",
    "#### 14,Aguas Buenas\n",
    "#### 29,Barceloneta\n",
    "#### Your program should print the shortest and longest city names. If there is a tie, use the name of the city which appears earlier in the file.\n",
    "\n",
    "#### Note: You should NOT assume that the cities will be cities in Puerto Rico.  You are not interested in the number, only in the names of the cities.\n",
    "\n",
    "#### Hint: Remember that a comma is what separates the distance from the city's name.\n",
    "\n"
   ]
  },
  {
   "cell_type": "code",
   "execution_count": 9,
   "metadata": {},
   "outputs": [
    {
     "name": "stdout",
     "output_type": "stream",
     "text": [
      "\n",
      "Shortest city is Aguas Buenas with a distance of 14\n",
      "Longest city is Aguada with a distance of 71\n"
     ]
    }
   ],
   "source": [
    "\"\"\"\n",
    "45,Adjuntas\n",
    "71,Aguada\n",
    "69,Aguadilla\n",
    "14,Aguas Buenas\n",
    "29,Barceloneta\n",
    "\"\"\"\n",
    "\n",
    "# user = input('Enter file name: ')\n",
    "\n",
    "user = \"files/cities.txt\"\n",
    "file = open(user, 'r')\n",
    "shortest = []\n",
    "longest = []\n",
    "for line in file:\n",
    "    info = line.strip().split(',')\n",
    "    if len(shortest) <= 0:\n",
    "        shortest = info\n",
    "    if len(longest) <= 0:\n",
    "        longest = info\n",
    "    elif int(info[0]) < int(shortest[0]):\n",
    "        shortest = info\n",
    "    elif int(info[0]) > int(longest[0]):\n",
    "        longest = info        \n",
    "        \n",
    "print()\n",
    "print('Shortest city is', shortest[1], 'with a distance of', shortest[0], sep=' ')\n",
    "print('Longest city is', longest[1], 'with a distance of', longest[0], sep=' ')\n",
    "file.close()"
   ]
  },
  {
   "cell_type": "markdown",
   "metadata": {},
   "source": [
    "#### HTML documents can use the script tag to reference JavaScript in a separate file or to incorporate the code inside the same HTML file. Write a program that reads an HTML file and prints the contents of the script tag. For example, consider the following lines of a sample HTML file: (colegiocoopscript1.html)\n",
    "\n",
    "##### Note: You should not assume that the script tag will be in any particular line or before/after any particular tag. Also, there might be whitespace (such as a space or a tab) at the beginning of the line where the script tag opens or closes, but you can assume there will be no other tags on those lines.\n",
    "\n"
   ]
  },
  {
   "cell_type": "code",
   "execution_count": 8,
   "metadata": {},
   "outputs": [
    {
     "name": "stdout",
     "output_type": "stream",
     "text": [
      "    <script>\n",
      "        function getage(birthdate) {\n",
      "            var Bday = +new Date(birthdate);\n",
      "            /* Forgot why I needed \"~~\"; why didn't I add a comment? :-( */\n",
      "            age = ~~((Date.now() - Bday) / (31557600000));\n",
      "            return age;\n",
      "        }\n",
      "    </script>\n",
      "    <script>\n",
      "        function getage(birthdate) {\n",
      "            var Bday = +new Date(birthdate);\n",
      "            /* Forgot why I needed \"~~\"; why didn't I add a comment? :-( */\n",
      "            age = ~~((Date.now() - Bday) / (31557600000));\n",
      "            return age;\n",
      "        }\n",
      "    </script>\n"
     ]
    }
   ],
   "source": [
    "# fname = input(\"Enter file name: \")\n",
    "fname = \"files/colegiocoopscript1.html\"\n",
    "fh = open(fname)\n",
    "p = False\n",
    "for line in fh:\n",
    "  linem = line.strip()\n",
    "  if p:\n",
    "    print(line.rstrip())\n",
    "    if linem.startswith('</script>'):\n",
    "      p = False\n",
    "  elif linem.startswith('<script>'):\n",
    "    p = True\n",
    "    print(line.rstrip())\n",
    "fh.close()"
   ]
  }
 ],
 "metadata": {
  "kernelspec": {
   "display_name": "base",
   "language": "python",
   "name": "python3"
  },
  "language_info": {
   "codemirror_mode": {
    "name": "ipython",
    "version": 3
   },
   "file_extension": ".py",
   "mimetype": "text/x-python",
   "name": "python",
   "nbconvert_exporter": "python",
   "pygments_lexer": "ipython3",
   "version": "3.11.5"
  }
 },
 "nbformat": 4,
 "nbformat_minor": 2
}
