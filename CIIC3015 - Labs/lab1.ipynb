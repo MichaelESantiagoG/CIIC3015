{
 "cells": [
  {
   "cell_type": "code",
   "execution_count": null,
   "metadata": {},
   "outputs": [],
   "source": [
    "course = \"CIIC3015\"\n",
    "print(course)\n"
   ]
  },
  {
   "cell_type": "code",
   "execution_count": 1,
   "metadata": {},
   "outputs": [
    {
     "name": "stdout",
     "output_type": "stream",
     "text": [
      "15\n",
      "25.0\n",
      "2.0\n",
      "12.5\n",
      "17.5\n",
      "2\n"
     ]
    }
   ],
   "source": [
    "a = 10\n",
    "b = 5\n",
    "c = 2.5\n",
    "print(a+b)\n",
    "print(a*c)\n",
    "print(a/b)\n",
    "print(b*c)\n",
    "print(a+b+c)\n",
    "print(a//b)"
   ]
  },
  {
   "cell_type": "code",
   "execution_count": 2,
   "metadata": {},
   "outputs": [
    {
     "name": "stdout",
     "output_type": "stream",
     "text": [
      "The total is $9.75\n"
     ]
    }
   ],
   "source": [
    "print(\"The total is $\" + str(int(input(\"How many pretzels? \")) * 3.25))"
   ]
  },
  {
   "cell_type": "code",
   "execution_count": 3,
   "metadata": {},
   "outputs": [
    {
     "name": "stdout",
     "output_type": "stream",
     "text": [
      "2\n"
     ]
    }
   ],
   "source": [
    "print( 50 % int(input(\"number of groups? \")))"
   ]
  },
  {
   "cell_type": "code",
   "execution_count": 4,
   "metadata": {},
   "outputs": [
    {
     "name": "stdout",
     "output_type": "stream",
     "text": [
      "3 was born in 2019\n",
      "<class 'str'>\n",
      "<class 'int'>\n",
      "<class 'int'>\n",
      "3 was born in 2019\n"
     ]
    }
   ],
   "source": [
    "name = input(\"Name: \")\n",
    "age = int(input(\"Age: \"))\n",
    "year_current = 2022\n",
    "year = int(year_current - age)\n",
    "print(name, \"was born in\", year)\n",
    "\n",
    "print(type(name))\n",
    "print(type(age))\n",
    "print(type(year))\n",
    "\n",
    "# Question author's solution \n",
    "\n",
    "name = input(\"Name: \")\n",
    "age = int(input(\"Age: \"))\n",
    "\n",
    "year = 2022 - age\n",
    "\n",
    "print(name, \"was born in\", year)"
   ]
  },
  {
   "cell_type": "code",
   "execution_count": 5,
   "metadata": {},
   "outputs": [
    {
     "name": "stdout",
     "output_type": "stream",
     "text": [
      "37\n",
      "37\n"
     ]
    }
   ],
   "source": [
    "temp_C = int(input(\"Enter a temperature: \"))\n",
    "temp_F = (temp_C * 9/5) + 32\n",
    "print(round(temp_F))\n",
    "\n",
    "# Question author's solution (Python3):\n",
    "\n",
    "C = int(input(\"Enter a temperature: \"))\n",
    "F = (C * 9 / 5) + 32\n",
    "print(int(F+0.5))\n"
   ]
  },
  {
   "cell_type": "code",
   "execution_count": 6,
   "metadata": {},
   "outputs": [
    {
     "name": "stdout",
     "output_type": "stream",
     "text": [
      "dollars: 3\n",
      "quarters: 0\n",
      "dimes: 0\n",
      "nickels: 0\n",
      "pennies: 0\n",
      "dollars: 3\n",
      "quarters: 0\n",
      "dimes: 0\n",
      "nickels: 0\n",
      "pennies: 0\n"
     ]
    }
   ],
   "source": [
    "amountStr = float(input(\"Enter an amount: \"))\n",
    "n = amountStr * 100\n",
    "dollars = n // 100\n",
    "print(\"dollars:\"   , int(dollars))\n",
    "dollars_R = n % 100\n",
    "\n",
    "quarters = dollars_R // 25\n",
    "print(\"quarters:\"  , int(quarters))\n",
    "quarters_R = dollars_R % 25\n",
    "\n",
    "dimes = quarters_R // 10\n",
    "print(\"dimes:\"     , int(dimes))\n",
    "dimes_R = quarters_R % 10\n",
    "\n",
    "nickels = dimes_R // 5\n",
    "print(\"nickels:\"   , int(nickels))\n",
    "nickels_R = dimes_R % 5\n",
    "\n",
    "pennies = nickels_R // 1\n",
    "print(\"pennies:\"   , int(pennies))\n",
    "\n",
    "\n",
    "# Question author's solution (Python3):\n",
    "\n",
    "amountStr = float(input(\"Enter an amount: \"))\n",
    "amount = int(amountStr * 100)\n",
    "dollars = amount // 100\n",
    "amount -= dollars * 100\n",
    "quarters = amount // 25\n",
    "amount -= quarters * 25\n",
    "dimes = amount // 10\n",
    "amount -= dimes * 10\n",
    "nickels = amount // 5\n",
    "amount -= nickels * 5\n",
    "pennies = amount\n",
    "\n",
    "\n",
    "print(\"dollars:\", dollars)\n",
    "print(\"quarters:\", quarters)\n",
    "print(\"dimes:\", dimes)\n",
    "print(\"nickels:\",nickels)\n",
    "print(\"pennies:\",pennies)\n",
    "\n"
   ]
  }
 ],
 "metadata": {
  "kernelspec": {
   "display_name": "Python 3",
   "language": "python",
   "name": "python3"
  },
  "language_info": {
   "codemirror_mode": {
    "name": "ipython",
    "version": 3
   },
   "file_extension": ".py",
   "mimetype": "text/x-python",
   "name": "python",
   "nbconvert_exporter": "python",
   "pygments_lexer": "ipython3",
   "version": "3.9.9"
  },
  "orig_nbformat": 4,
  "vscode": {
   "interpreter": {
    "hash": "b0fa6594d8f4cbf19f97940f81e996739fb7646882a419484c72d19e05852a7e"
   }
  }
 },
 "nbformat": 4,
 "nbformat_minor": 2
}
