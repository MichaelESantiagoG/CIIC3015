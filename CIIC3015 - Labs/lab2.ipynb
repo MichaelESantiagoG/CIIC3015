{
 "cells": [
  {
   "cell_type": "code",
   "execution_count": null,
   "metadata": {},
   "outputs": [],
   "source": [
    "distance = input('What is the distance of the race track: ')\n",
    "speed = int(distance) / 0.5\n",
    "print('The speed of the car:',speed ,'km/h')"
   ]
  },
  {
   "cell_type": "code",
   "execution_count": null,
   "metadata": {},
   "outputs": [],
   "source": [
    "pi = 3.141592\n",
    "r = float(input('Enter the radius of the circle: '))\n",
    "area = pi * r**2\n",
    "print('The area of the circle is:', area)\n",
    "\n",
    "\n",
    "# Question author's solution (Python3):\n",
    "\n",
    "r = float(input(\"Enter the radius of the circle: \"))\n",
    "A = 3.141592 * r**2\n",
    "print('The area of the circle is:', str(A))"
   ]
  },
  {
   "cell_type": "code",
   "execution_count": null,
   "metadata": {},
   "outputs": [],
   "source": [
    "p = float(input('What is the amount of the loan: '))\n",
    "r = 0.085\n",
    "t = 1.5\n",
    "a = p*(1+(r*t))\n",
    "print('The total amount of the loan to be paid',a,'USD')\n",
    "\n",
    "\n",
    "# Question author's solution (Python3):\n",
    "\n",
    "loan = float(input(\"What is the amount of the loan: \"))\n",
    "term = 18 / 12\n",
    "interest = 0.085\n",
    "amount = loan * (1 + interest * term)\n",
    "print('The total amount of the loan to be paid', amount, 'USD')"
   ]
  },
  {
   "cell_type": "code",
   "execution_count": null,
   "metadata": {},
   "outputs": [],
   "source": [
    "age = int(input('How old are you? '))\n",
    "if age >= 18:\n",
    "    print('You are of legal age')\n",
    "elif age < 18:\n",
    "    print('You are not of legal age')\n",
    "\n",
    "\n",
    "# Question author's solution (Python3):\n",
    "\n",
    "age = int(input('How old are you? '))\n",
    "if age >= 18:\n",
    "    print('You are of legal age')\n",
    "else:\n",
    "    print('You are not of legal age')"
   ]
  },
  {
   "cell_type": "code",
   "execution_count": null,
   "metadata": {},
   "outputs": [],
   "source": [
    "n = int(input('Number? '))\n",
    "if n % 2 == 0:\n",
    "    print('Even')\n",
    "else:\n",
    "    print('Odd')\n",
    "\n",
    "# Question author's solution (Python3):\n",
    "\n",
    "number = float(input(\"Number? \"))\n",
    "if number % 2 != 0:\n",
    "    print('Odd')\n",
    "else:\n",
    "    print('Even')"
   ]
  },
  {
   "cell_type": "code",
   "execution_count": null,
   "metadata": {},
   "outputs": [],
   "source": [
    "n = int(input('Number? '))\n",
    "if n > 0:\n",
    "    print('Positive') \n",
    "elif n < 0:\n",
    "    print('Negative')\n",
    "elif n == 0:\n",
    "    print('Zero') \n",
    "\n",
    "# Question author's solution (Python3):\n",
    "\n",
    "number = int(input(\"Number? \"))\n",
    "if number < 0:\n",
    "    print(\"Negative\")\n",
    "elif number > 0:\n",
    "    print(\"Positive\")\n",
    "else:\n",
    "    print(\"Zero\")"
   ]
  },
  {
   "cell_type": "code",
   "execution_count": 1,
   "metadata": {},
   "outputs": [
    {
     "name": "stdout",
     "output_type": "stream",
     "text": [
      "$75.9\n",
      "$75.9\n"
     ]
    }
   ],
   "source": [
    "cost = float(input('Meal? '))\n",
    "if cost <= 10:\n",
    "    meal = cost\n",
    "elif cost > 10 and cost <= 25:\n",
    "    meal = cost + (cost * 0.05)\n",
    "elif cost > 25 and cost <= 50:\n",
    "    meal = cost + (cost * 0.10)\n",
    "elif cost > 50:\n",
    "    meal = cost + (cost * 0.15)\n",
    "print('$',meal,sep='')\n",
    "\n",
    "# Question author's solution (Python3):\n",
    "meal = float(input(\"Meal? \"))\n",
    "if meal <= 10:\n",
    "    Total = meal\n",
    "elif meal <= 25:\n",
    "    Total = meal+meal*0.05\n",
    "elif meal <= 50:\n",
    "    Total = meal+meal*0.10\n",
    "else:\n",
    "    Total = meal+meal*0.15\n",
    "print(\"$\" + str(Total))\n"
   ]
  },
  {
   "cell_type": "code",
   "execution_count": null,
   "metadata": {},
   "outputs": [],
   "source": [
    "g = int(input('Your score? '))\n",
    "\n",
    "if g >= 93:\n",
    "    print('A+')\n",
    "elif g >= 90 and g <= 92: \n",
    "    print('A')\n",
    "elif g >= 87 and g <= 89:\n",
    "    print('B+')\n",
    "elif g >= 83 and g <= 86:\n",
    "    print('B')\n",
    "elif g >= 80 and g <= 82:\n",
    "    print('B-')\n",
    "elif g >= 77 and g <= 79:\n",
    "    print('C+')\n",
    "elif g >= 73 and g <= 76:\n",
    "    print('C')\n",
    "elif g >= 70 and g <= 72:\n",
    "    print('C-')\n",
    "elif g >= 67 and g <= 69:\n",
    "    print('D+')\n",
    "elif g >= 63 and g <= 66:\n",
    "    print('D')\n",
    "elif g >= 60 and g <= 62:\n",
    "    print('D-')\n",
    "elif g <= 60:\n",
    "    print('F')\n",
    "\n",
    "# Question author's solution (Python3):\n",
    "\n",
    "score = int(input('Your score? '))\n",
    "if score >= 93 and score <= 100:\n",
    "    print('A+')\n",
    "elif score >= 90 and score <= 92:\n",
    "    print('A')\n",
    "elif score >= 87 and score <= 89:\n",
    "    print('B+')\n",
    "elif score >= 83 and score <= 86:\n",
    "    print('B')\n",
    "elif score >= 80 and score <= 82:\n",
    "    print('B-')\n",
    "elif score >= 77 and score <= 79:\n",
    "    print('C+')\n",
    "elif score >= 73 and score <= 76:\n",
    "    print('C')\n",
    "elif score >= 70 and score <= 72:\n",
    "    print('C-')\n",
    "elif score >= 67 and score <= 69:\n",
    "    print('D+')\n",
    "elif score >= 63 and score <= 66:\n",
    "    print('D')\n",
    "elif score >= 60 and score <= 62:\n",
    "    print('D-')\n",
    "elif score > 0:\n",
    "    print('Incorrect score')\n",
    "else:\n",
    "    print('F')"
   ]
  }
 ],
 "metadata": {
  "kernelspec": {
   "display_name": "Python 3.9.9 64-bit",
   "language": "python",
   "name": "python3"
  },
  "language_info": {
   "codemirror_mode": {
    "name": "ipython",
    "version": 3
   },
   "file_extension": ".py",
   "mimetype": "text/x-python",
   "name": "python",
   "nbconvert_exporter": "python",
   "pygments_lexer": "ipython3",
   "version": "3.9.9"
  },
  "orig_nbformat": 4,
  "vscode": {
   "interpreter": {
    "hash": "b0fa6594d8f4cbf19f97940f81e996739fb7646882a419484c72d19e05852a7e"
   }
  }
 },
 "nbformat": 4,
 "nbformat_minor": 2
}
