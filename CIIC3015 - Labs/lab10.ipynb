{
 "cells": [
  {
   "cell_type": "markdown",
   "metadata": {},
   "source": [
    "#### Write a function named stringify that receives a dictionary as a parameter and returns a string representation of the dictionary as follows. The keys and values must be formatted in the form (key:value), and different key-value pairs must be separated with commas (but no spaces or trailing comma at the end). You may assume all keys and values to be strings; an example has been provided further below.\n",
    "\n",
    "#### Hint: Create an empty string and concatenate accordingly as you iterate over the dictionary.  Remember to remove the trailing comma before you return the result.\n",
    "\n",
    "#### Note: You will need to invoke your function to test it, but in the answer field only include your function definition (don't include the function call).\n",
    "\n",
    "#### Por ejemplo:\n",
    "\n",
    "| Prueba | Resultado |\n",
    "|--------|-----------|\n",
    "| `print(stringify({'course':'CIIC3015','credits':'4'}))` | `(course:CIIC3015),(credits:4)` |\n",
    "| `print(stringify({'firstName':'John', 'lastName':'Doe', 'comment':'Test'}))` | `(firstName:John),(lastName:Doe),(comment:Test)` |\n",
    "\n",
    "\n"
   ]
  },
  {
   "cell_type": "code",
   "execution_count": 1,
   "metadata": {},
   "outputs": [
    {
     "name": "stdout",
     "output_type": "stream",
     "text": [
      "(course:CIIC3015),(credits:4)\n",
      "\n",
      "(firstName:John),(lastName:Doe),(comment:Test)\n"
     ]
    }
   ],
   "source": [
    "def stringify(Dic):\n",
    "  stringy = ''\n",
    "  for key in Dic:\n",
    "    stringy += '(' + key + ':' + Dic[key] + '),'\n",
    "  stringy = stringy.rstrip(',')\n",
    "  return stringy\n",
    "\n",
    "print(stringify({'course':'CIIC3015','credits':'4'}))\n",
    "print()\n",
    "print(stringify({'firstName':'John', 'lastName':'Doe', 'comment':'Test'}))\n"
   ]
  },
  {
   "cell_type": "markdown",
   "metadata": {},
   "source": [
    "#### In relational database applications (covered in depth in future courses), data is stored in tables, each table containing records of data, and each record identifiable by a key. It's possible to have two (or more) tables that share the same key field, but the remaining fields are different. If we wish to retrieve these fields from distinct tables for a specific key, a join operation is carried out. For example, consider the following two tables that use the course code as the key:\n",
    "\n",
    "#### **Course prerequisites**\n",
    "| Key     | Pre-requisite |\n",
    "|---------|---------------|\n",
    "| CIIC3075| CIIC3015      |\n",
    "| CIIC4010| CIIC3015      |\n",
    "| CIIC4020| CIIC4010      |\n",
    "| CIIC4030| CIIC4020      |\n",
    "\n",
    "#### **Course information**\n",
    "| Key     | Name                               | Description                           |\n",
    "|---------|------------------------------------|---------------------------------------|\n",
    "| CIIC3075| Foundations of Computing           | Discrete structures in CSE…          |\n",
    "| CIIC4010| Advanced Programming               | Advanced programming techniques applied… |\n",
    "| CIIC4020| Data Structures                    | Representation of information as…    |\n",
    "| CIIC4025| Design and Analysis of Algorithms  | Methods & techniques for algorithm analysis… |\n",
    "\n",
    "#### Performing a join operation on these two tables using the key 'CIIC4020' should return something similar to the following:\n",
    "\n",
    "| Key     | Pre-requisite | Name           | Description                           |\n",
    "|---------|---------------|----------------|---------------------------------------|\n",
    "| CIIC4020| CIIC4010      | Data Structures| Representation of information as…    |\n",
    "\n",
    "#### **Task**\n",
    "\n",
    "#### Write a function named `join` that receives two dictionaries and a string (the key) as parameters and returns a new dictionary representing the “join” of those two dictionaries with the specified key. Each dictionary represents a database, implemented as a dictionary of dictionaries. For example, the above tables could be represented as follows:\n",
    "\n",
    "| Prueba | Resultado |\n",
    "|--------|-----------|\n",
    "| `{'CIIC4020': {'Pre-requisite': '4010', 'Name': 'Data Structures', 'Description': 'Representation of information as...'}}` | `join(coursePrereqs, courseInfo, 'CIIC4020')` |\n",
    "| `{'CIIC4025': {'Name': 'Design and Analysis of Algorithms', 'Description': 'Methods & techniques for algorithm analysis...'}}` | `join(coursePrereqs, courseInfo, 'CIIC4025')` |\n",
    "| `{'CIIC4030': {'Pre-requisite': '4020'}}` | `join(coursePrereqs, courseInfo, 'CIIC4030')` |\n",
    "| `{'CIIC3081': {}}` | `join(coursePrereqs, courseInfo, 'CIIC3081')` |\n"
   ]
  },
  {
   "cell_type": "code",
   "execution_count": 2,
   "metadata": {},
   "outputs": [
    {
     "name": "stdout",
     "output_type": "stream",
     "text": [
      "{'CIIC4020': {'Pre-requisite': '4010', 'Name': 'Data Structures', 'Description': 'Representation of information as...'}}\n",
      "\n",
      "{'CIIC4025': {'Name': 'Design and Analysis of Algorithms', 'Description': 'Methods & techniques for algorithm analysis...'}}\n",
      "\n",
      "{'CIIC4030': {'Pre-requisite': '4020'}}\n",
      "\n",
      "{'CIIC3081': {}}\n"
     ]
    }
   ],
   "source": [
    "def join(CP, CI, Name):\n",
    "  result = dict()\n",
    "  if Name in CP:\n",
    "    for key in CP[Name]:\n",
    "      result[key] = CP[Name][key]  \n",
    "  if Name in CI:\n",
    "    for key in CI[Name]:\n",
    "      result[key] = CI[Name][key]\n",
    "\n",
    "  # if Name in CP:\n",
    "  #   result[Name] = CP[Name]\n",
    "  return {Name : result }\n",
    "\n",
    "\n",
    "\n",
    "coursePrereqs = {\n",
    "   'CIIC3075' : {'Pre-requisite': '3015'}, 'CIIC4010' : {'Pre-requisite': '3015'},\n",
    "   'CIIC4020' : {'Pre-requisite': '4010'}, 'CIIC4030' : {'Pre-requisite': '4020'}\n",
    "}\n",
    "courseInfo = {\n",
    "   'CIIC3075' : { 'Name': 'Foundations of Computing', 'Description': 'Discrete structures in CSE...' },\n",
    "   'CIIC4010' : { 'Name': 'Advanced Programming', 'Description': 'Advanced programming techniques applied...' },\n",
    "   'CIIC4020' : { 'Name': 'Data Structures', 'Description': 'Representation of information as...' },\n",
    "   'CIIC4025' : { 'Name': 'Design and Analysis of Algorithms', 'Description': 'Methods & techniques for algorithm analysis...' }\n",
    "}\n",
    "print(join(coursePrereqs, courseInfo, 'CIIC4020'))\n",
    "print()\n",
    "\n",
    "\n",
    "coursePrereqs = {\n",
    "   'CIIC3075' : {'Pre-requisite': '3015'}, 'CIIC4010' : {'Pre-requisite': '3015'},\n",
    "   'CIIC4020' : {'Pre-requisite': '4010'}, 'CIIC4030' : {'Pre-requisite': '4020'}\n",
    "}\n",
    "courseInfo = {\n",
    "   'CIIC3075' : { 'Name': 'Foundations of Computing', 'Description': 'Discrete structures in CSE...' },\n",
    "   'CIIC4010' : { 'Name': 'Advanced Programming', 'Description': 'Advanced programming techniques applied...' },\n",
    "   'CIIC4020' : { 'Name': 'Data Structures', 'Description': 'Representation of information as...' },\n",
    "   'CIIC4025' : { 'Name': 'Design and Analysis of Algorithms', 'Description': 'Methods & techniques for algorithm analysis...' }\n",
    "}\n",
    "print(join(coursePrereqs, courseInfo, 'CIIC4025'))\n",
    "print()\n",
    "\n",
    "\n",
    "coursePrereqs = {\n",
    "   'CIIC3075' : {'Pre-requisite': '3015'}, 'CIIC4010' : {'Pre-requisite': '3015'},\n",
    "   'CIIC4020' : {'Pre-requisite': '4010'}, 'CIIC4030' : {'Pre-requisite': '4020'}\n",
    "}\n",
    "courseInfo = {\n",
    "   'CIIC3075' : { 'Name': 'Foundations of Computing', 'Description': 'Discrete structures in CSE...' },\n",
    "   'CIIC4010' : { 'Name': 'Advanced Programming', 'Description': 'Advanced programming techniques applied...' },\n",
    "   'CIIC4020' : { 'Name': 'Data Structures', 'Description': 'Representation of information as...' },\n",
    "   'CIIC4025' : { 'Name': 'Design and Analysis of Algorithms', 'Description': 'Methods & techniques for algorithm analysis...' }\n",
    "}\n",
    "print(join(coursePrereqs, courseInfo, 'CIIC4030'))\n",
    "print()\n",
    "\n",
    "\n",
    "coursePrereqs = {\n",
    "   'CIIC3075' : {'Pre-requisite': '3015'}, 'CIIC4010' : {'Pre-requisite': '3015'},\n",
    "   'CIIC4020' : {'Pre-requisite': '4010'}, 'CIIC4030' : {'Pre-requisite': '4020'}\n",
    "}\n",
    "courseInfo = {\n",
    "   'CIIC3075' : { 'Name': 'Foundations of Computing', 'Description': 'Discrete structures in CSE...' },\n",
    "   'CIIC4010' : { 'Name': 'Advanced Programming', 'Description': 'Advanced programming techniques applied...' },\n",
    "   'CIIC4020' : { 'Name': 'Data Structures', 'Description': 'Representation of information as...' },\n",
    "   'CIIC4025' : { 'Name': 'Design and Analysis of Algorithms', 'Description': 'Methods & techniques for algorithm analysis...' }\n",
    "}\n",
    "print(join(coursePrereqs, courseInfo, 'CIIC3081'))"
   ]
  },
  {
   "cell_type": "code",
   "execution_count": null,
   "metadata": {},
   "outputs": [],
   "source": [
    "from pickle import _Pickler\n",
    "\n",
    "\n",
    "_Pickler"
   ]
  }
 ],
 "metadata": {
  "kernelspec": {
   "display_name": "base",
   "language": "python",
   "name": "python3"
  },
  "language_info": {
   "codemirror_mode": {
    "name": "ipython",
    "version": 3
   },
   "file_extension": ".py",
   "mimetype": "text/x-python",
   "name": "python",
   "nbconvert_exporter": "python",
   "pygments_lexer": "ipython3",
   "version": "3.1.undefined"
  }
 },
 "nbformat": 4,
 "nbformat_minor": 2
}
