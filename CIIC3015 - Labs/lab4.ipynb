{
 "cells": [
  {
   "cell_type": "code",
   "execution_count": 1,
   "metadata": {},
   "outputs": [
    {
     "name": "stdout",
     "output_type": "stream",
     "text": [
      "8*1 = 8\n",
      "8*2 = 16\n",
      "8*3 = 24\n",
      "8*4 = 32\n",
      "8*5 = 40\n",
      "8*6 = 48\n",
      "8*7 = 56\n",
      "8*8 = 64\n",
      "8*9 = 72\n",
      "8*10 = 80\n"
     ]
    }
   ],
   "source": [
    "a = int(input('Enter a number: '))\n",
    "i = 1\n",
    "while i <= 10:\n",
    "    print(a,'*', i , ' = ', a * i , sep='')\n",
    "    i += 1"
   ]
  },
  {
   "cell_type": "code",
   "execution_count": null,
   "metadata": {},
   "outputs": [],
   "source": [
    "n = int(input('How many rows should your triangle have? '))\n",
    "while n > 0:\n",
    "  x = n\n",
    "  while x >= 0:\n",
    "    print('*' * x)\n",
    "    x -= 1\n",
    "  n = 0"
   ]
  },
  {
   "cell_type": "code",
   "execution_count": null,
   "metadata": {},
   "outputs": [],
   "source": [
    "def land_price(state, length, width):\n",
    "  sft_Michigan = 67.25\n",
    "  sft_Washington = 120.32\n",
    "  sft_Texas = 75.89\n",
    "  Area = length * width\n",
    "  if state == 'Michigan':\n",
    "    print('The total for the land in Michigan is $', Area * sft_Michigan, sep='')\n",
    "  elif state == 'Washington':\n",
    "    print('The total for the land in Washington is $', Area * sft_Washington, sep='')\n",
    "  elif state == 'Texas':\n",
    "    print('The total for the land in Texas is $', Area * sft_Texas, sep='')\n",
    "\n",
    "land_price('Michigan',20.5,100)\n",
    "land_price('Washington',20.5,10.6)\n"
   ]
  },
  {
   "cell_type": "code",
   "execution_count": null,
   "metadata": {},
   "outputs": [],
   "source": [
    "def maximum(a,b,c):\n",
    "  print(max(a,b,c))\n",
    "\n",
    "maximum(1,2,3)\n",
    "maximum('b','a','W')\n"
   ]
  },
  {
   "cell_type": "code",
   "execution_count": null,
   "metadata": {},
   "outputs": [],
   "source": [
    "def cube(number):\n",
    "  number = number**3\n",
    "  return number\n",
    "\n",
    "number = float(input('number: '))\n",
    "print(cube(number))"
   ]
  },
  {
   "cell_type": "code",
   "execution_count": null,
   "metadata": {},
   "outputs": [],
   "source": [
    "def half(number):\n",
    "  result = number / 2\n",
    "  return result\n",
    "\n",
    "number = float(input('Write a number: '))\n",
    "result = half(number)\n",
    "print(result)"
   ]
  },
  {
   "cell_type": "code",
   "execution_count": null,
   "metadata": {},
   "outputs": [],
   "source": [
    "def total(a,b,c,d):\n",
    "  sum = float(a + b + c + d)\n",
    "  return sum\n",
    "\n",
    "\t\n",
    "print(total(123.55,234.65,456.67, 342.76))\n",
    "print(total(2135.25,2542.5,14.6, 1235.7))\n",
    "print(total(-235.21,235.25,254.21, -143.25))\n",
    "print(total(12345.6,-3644.5,-47775.5, 3466.5))\n",
    "print(total(2134,12435,7654,4234))\n",
    "print(total(-3,-4,-5, -6))\n",
    "print(total(-21,514,-87, 867))\n",
    "\n"
   ]
  },
  {
   "cell_type": "code",
   "execution_count": null,
   "metadata": {},
   "outputs": [],
   "source": [
    "def pi():\n",
    "  pi = 3.141592653589793\n",
    "  return pi\n",
    "def circumference(radius): #C = 2πr\n",
    "  C = 2 * pi() * radius\n",
    "  return C\n",
    "def circle_area(radius):  #A = πr^2\n",
    "  A = pi() * radius ** 2\n",
    "  return A\n",
    "  \n",
    "# Main program\n",
    "radius = int(input(\"Enter the radius of a circle: \"))\n",
    "print(\"The circumference of the circle is:\", circumference(radius))\n",
    "print(\"The area of the circle is:\", circle_area(radius))"
   ]
  },
  {
   "cell_type": "code",
   "execution_count": null,
   "metadata": {},
   "outputs": [],
   "source": [
    "\n",
    "def perimeter(l, w):  #P = 2l + 2w\n",
    "  P = (2 * l) + (2 * w)\n",
    "  return P\n",
    "\n",
    "def rectangle_area(l, w):  #A =  l*w\n",
    "  A = l * w\n",
    "  return A\n",
    "\n",
    "# Main program\n",
    "\n",
    "l = int(input(\"Enter the length of the rectangle: \"))\n",
    "w = int(input(\"Enter the width of the rectangle: \"))\n",
    "print(\"The perimeter of the rectangle is:\", perimeter(l, w))\n",
    "print(\"The area of the rectangle is:\", rectangle_area(l, w))\n"
   ]
  },
  {
   "cell_type": "code",
   "execution_count": 2,
   "metadata": {},
   "outputs": [
    {
     "name": "stdout",
     "output_type": "stream",
     "text": [
      "The perimeter of the rectangle is: 28\n",
      "The area of the rectangle is: 49\n",
      "The circumference of the circle is: 43.982297150257104\n",
      "The area of the circle is: 153.93804002589985\n"
     ]
    }
   ],
   "source": [
    "def pi():\n",
    "  pi = 3.141592653589793\n",
    "  return pi\n",
    "def circumference(radius): #C = 2πr\n",
    "  C = 2 * pi() * radius\n",
    "  return C\n",
    "def circle_area(radius):  #A = πr^2\n",
    "  A = pi() * radius ** 2\n",
    "  return A\n",
    "def perimeter(l, w):  #P = 2l + 2w\n",
    "  P = (2 * l) + (2 * w)\n",
    "  return P\n",
    "\n",
    "def rectangle_area(l, w):  #A =  l*w\n",
    "  A = l * w\n",
    "  return A\n",
    "  \n",
    "def calculator(a):\n",
    "  if a == 'c':\n",
    "    radius = int(input(\"Enter the radius of a circle: \"))\n",
    "    print(\"The circumference of the circle is:\", circumference(radius))\n",
    "    print(\"The area of the circle is:\", circle_area(radius))\n",
    "  elif a == 'r':\n",
    "    l = int(input(\"Enter the length of the rectangle: \"))\n",
    "    w = int(input(\"Enter the width of the rectangle: \"))\n",
    "    print(\"The perimeter of the rectangle is:\", perimeter(l, w))\n",
    "    print(\"The area of the rectangle is:\", rectangle_area(l, w))\n",
    "\n",
    "calculator('r')\n",
    "calculator('c')\n"
   ]
  }
 ],
 "metadata": {
  "kernelspec": {
   "display_name": "base",
   "language": "python",
   "name": "python3"
  },
  "language_info": {
   "codemirror_mode": {
    "name": "ipython",
    "version": 3
   },
   "file_extension": ".py",
   "mimetype": "text/x-python",
   "name": "python",
   "nbconvert_exporter": "python",
   "pygments_lexer": "ipython3",
   "version": "3.11.5"
  },
  "orig_nbformat": 4
 },
 "nbformat": 4,
 "nbformat_minor": 2
}
