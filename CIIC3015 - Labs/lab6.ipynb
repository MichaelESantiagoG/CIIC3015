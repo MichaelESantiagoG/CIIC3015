{
 "cells": [
  {
   "cell_type": "code",
   "execution_count": 51,
   "metadata": {},
   "outputs": [
    {
     "name": "stdout",
     "output_type": "stream",
     "text": [
      "[1, 3, 0, 2, 5, 4]\n",
      "[1, 2, 'a', 'b', 3, 'c']\n"
     ]
    }
   ],
   "source": [
    "def interlacep(list1, list2):\n",
    "    result = []\n",
    "    for i in range(0, min(len(list1), len(list2)), 2):\n",
    "        result.append(list2[i])\n",
    "        if i+1 < len(list2):\n",
    "            result.append(list2[i+1])\n",
    "        result.append(list1[i])\n",
    "        if i+1 < len(list1): \n",
    "            result.append(list1[i+1] if i+1 < len(list1) else None)\n",
    "    if len(list1) > len(list2):\n",
    "        result += list1[len(list2):]\n",
    "    elif len(list2) > len(list1):\n",
    "        result += list2[len(list1):]\n",
    "    return result\n",
    "\n",
    "print(interlacep([0, 2, 4], [1, 3, 5]))  #output [1, 3, 0, 2, 5, 4]\n",
    "print(interlacep(['a','b','c'],[1,2,3])) #output [1, 2, 'a', 'b', 3, 'c']"
   ]
  },
  {
   "cell_type": "code",
   "execution_count": 54,
   "metadata": {},
   "outputs": [
    {
     "name": "stdout",
     "output_type": "stream",
     "text": [
      "[9.0, 9.0]\n"
     ]
    }
   ],
   "source": [
    "def checkout():\n",
    "    PL = input('Enter the item price (\"checkout\" to end): ')\n",
    "    totalist= []\n",
    "    v = 0\n",
    "    while PL != 'checkout':\n",
    "        v += float(PL)\n",
    "        totalist.append(round(v,2))\n",
    "        PL = input('Enter the item price (\"checkout\" to end): ')\n",
    "    if PL == \"checkout\":\n",
    "        return totalist\n",
    "    \n",
    "print(checkout())"
   ]
  },
  {
   "cell_type": "code",
   "execution_count": 1,
   "metadata": {},
   "outputs": [
    {
     "name": "stdout",
     "output_type": "stream",
     "text": [
      "[0, 6, 7]\n",
      "[2, 8, 9]\n",
      "[]\n"
     ]
    }
   ],
   "source": [
    "def pos_spec_val(list, int):\n",
    "\toutput = []\n",
    "\tfor I in range(len(list)):\n",
    "\t\tif list[I] == int:\n",
    "\t\t\toutput.append(I)\n",
    "\treturn output\n",
    "print(pos_spec_val([1,2,3,4,5,6,1,1,3,3,6,6], 1))  # [0, 6, 7]\n",
    "print(pos_spec_val([1,2,3,4,5,6,1,1,3,3,6,6], 3))  # [2, 8, 9]\n",
    "print(pos_spec_val([1,2,3,4,5,6,1,1,3,3,6,6], 15)) # []"
   ]
  }
 ],
 "metadata": {
  "kernelspec": {
   "display_name": "Python 3",
   "language": "python",
   "name": "python3"
  },
  "language_info": {
   "codemirror_mode": {
    "name": "ipython",
    "version": 3
   },
   "file_extension": ".py",
   "mimetype": "text/x-python",
   "name": "python",
   "nbconvert_exporter": "python",
   "pygments_lexer": "ipython3",
   "version": "3.1.-1"
  }
 },
 "nbformat": 4,
 "nbformat_minor": 2
}
